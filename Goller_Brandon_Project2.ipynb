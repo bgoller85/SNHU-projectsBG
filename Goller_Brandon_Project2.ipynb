{
 "cells": [
  {
   "cell_type": "markdown",
   "metadata": {},
   "source": [
    "# Treasure Hunt Game Notebook\n",
    "\n",
    "## Read and Review Your Starter Code\n",
    "The theme of this project is a popular treasure hunt game in which the player needs to find the treasure before the pirate does. While you will not be developing the entire game, you will write the part of the game that represents the intelligent agent, which is a pirate in this case. The pirate will try to find the optimal path to the treasure using deep Q-learning. \n",
    "\n",
    "You have been provided with two Python classes and this notebook to help you with this assignment. The first class, TreasureMaze.py, represents the environment, which includes a maze object defined as a matrix. The second class, GameExperience.py, stores the episodes – that is, all the states that come in between the initial state and the terminal state. This is later used by the agent for learning by experience, called \"exploration\". This notebook shows how to play a game. Your task is to complete the deep Q-learning implementation for which a skeleton implementation has been provided. The code blocks you will need to complete has #TODO as a header.\n",
    "\n",
    "First, read and review the next few code and instruction blocks to understand the code that you have been given."
   ]
  },
  {
   "cell_type": "code",
   "execution_count": 1,
   "metadata": {},
   "outputs": [
    {
     "name": "stderr",
     "output_type": "stream",
     "text": [
      "Using TensorFlow backend.\n"
     ]
    }
   ],
   "source": [
    "from __future__ import print_function\n",
    "import os, sys, time, datetime, json, random\n",
    "import numpy as np\n",
    "from keras.models import Sequential\n",
    "from keras.layers.core import Dense, Activation\n",
    "from keras.optimizers import SGD , Adam, RMSprop\n",
    "from keras.layers.advanced_activations import PReLU\n",
    "import matplotlib.pyplot as plt\n",
    "from TreasureMaze import TreasureMaze\n",
    "from GameExperience import GameExperience\n",
    "%matplotlib inline"
   ]
  },
  {
   "cell_type": "markdown",
   "metadata": {},
   "source": [
    "The following code block contains an 8x8 matrix that will be used as a maze object:"
   ]
  },
  {
   "cell_type": "code",
   "execution_count": 2,
   "metadata": {},
   "outputs": [],
   "source": [
    "maze = np.array([\n",
    "    [ 1.,  0.,  1.,  1.,  1.,  1.,  1.,  1.],\n",
    "    [ 1.,  0.,  1.,  1.,  1.,  0.,  1.,  1.],\n",
    "    [ 1.,  1.,  1.,  1.,  0.,  1.,  0.,  1.],\n",
    "    [ 1.,  1.,  1.,  0.,  1.,  1.,  1.,  1.],\n",
    "    [ 1.,  1.,  0.,  1.,  1.,  1.,  1.,  1.],\n",
    "    [ 1.,  1.,  1.,  0.,  1.,  0.,  0.,  0.],\n",
    "    [ 1.,  1.,  1.,  0.,  1.,  1.,  1.,  1.],\n",
    "    [ 1.,  1.,  1.,  1.,  0.,  1.,  1.,  1.]\n",
    "])"
   ]
  },
  {
   "cell_type": "markdown",
   "metadata": {},
   "source": [
    "This helper function allows a visual representation of the maze object:"
   ]
  },
  {
   "cell_type": "code",
   "execution_count": 3,
   "metadata": {},
   "outputs": [],
   "source": [
    "def show(qmaze):\n",
    "    plt.grid('on')\n",
    "    nrows, ncols = qmaze.maze.shape\n",
    "    ax = plt.gca()\n",
    "    ax.set_xticks(np.arange(0.5, nrows, 1))\n",
    "    ax.set_yticks(np.arange(0.5, ncols, 1))\n",
    "    ax.set_xticklabels([])\n",
    "    ax.set_yticklabels([])\n",
    "    canvas = np.copy(qmaze.maze)\n",
    "    for row,col in qmaze.visited:\n",
    "        canvas[row,col] = 0.6\n",
    "    pirate_row, pirate_col, _ = qmaze.state\n",
    "    canvas[pirate_row, pirate_col] = 0.3   # pirate cell\n",
    "    canvas[nrows-1, ncols-1] = 0.9 # treasure cell\n",
    "    img = plt.imshow(canvas, interpolation='none', cmap='gray')\n",
    "    return img"
   ]
  },
  {
   "cell_type": "markdown",
   "metadata": {},
   "source": [
    "The pirate agent can move in four directions: left, right, up, and down. \n",
    "\n",
    "While the agent primarily learns by experience through exploitation, often, the agent can choose to explore the environment to find previously undiscovered paths. This is called \"exploration\" and is defined by epsilon. This value is typically a lower value such as 0.1, which means for every ten attempts, the agent will attempt to learn by experience nine times and will randomly explore a new path one time. You are encouraged to try various values for the exploration factor and see how the algorithm performs."
   ]
  },
  {
   "cell_type": "code",
   "execution_count": 4,
   "metadata": {},
   "outputs": [],
   "source": [
    "LEFT = 0\n",
    "UP = 1\n",
    "RIGHT = 2\n",
    "DOWN = 3\n",
    "\n",
    "\n",
    "# Exploration factor\n",
    "epsilon = 0.05\n",
    "\n",
    "# Actions dictionary\n",
    "actions_dict = {\n",
    "    LEFT: 'left',\n",
    "    UP: 'up',\n",
    "    RIGHT: 'right',\n",
    "    DOWN: 'down',\n",
    "}\n",
    "\n",
    "num_actions = len(actions_dict)\n"
   ]
  },
  {
   "cell_type": "markdown",
   "metadata": {},
   "source": [
    "The sample code block and output below show creating a maze object and performing one action (DOWN), which returns the reward. The resulting updated environment is visualized."
   ]
  },
  {
   "cell_type": "code",
   "execution_count": 5,
   "metadata": {},
   "outputs": [
    {
     "name": "stdout",
     "output_type": "stream",
     "text": [
      "reward= -0.04\n"
     ]
    },
    {
     "data": {
      "text/plain": [
       "<matplotlib.image.AxesImage at 0x2517eb61fc8>"
      ]
     },
     "execution_count": 5,
     "metadata": {},
     "output_type": "execute_result"
    },
    {
     "data": {
      "image/png": "[encoded data removed]",
      "text/plain": [
       "<Figure size 432x288 with 1 Axes>"
      ]
     },
     "metadata": {
      "needs_background": "light"
     },
     "output_type": "display_data"
    }
   ],
   "source": [
    "qmaze = TreasureMaze(maze)\n",
    "canvas, reward, game_over = qmaze.act(DOWN)\n",
    "print(\"reward=\", reward)\n",
    "show(qmaze)"
   ]
  },
  {
   "cell_type": "markdown",
   "metadata": {},
   "source": [
    "This function simulates a full game based on the provided trained model. The other parameters include the TreasureMaze object and the starting position of the pirate."
   ]
  },
  {
   "cell_type": "code",
   "execution_count": 6,
   "metadata": {},
   "outputs": [],
   "source": [
    "def play_game(model, qmaze, pirate_cell):\n",
    "    qmaze.reset(pirate_cell)\n",
    "    envstate = qmaze.observe()\n",
    "    while True:\n",
    "        prev_envstate = envstate\n",
    "        # get next action\n",
    "        q = model.predict(prev_envstate)\n",
    "        action = np.argmax(q[0])\n",
    "\n",
    "        # apply action, get rewards and new state\n",
    "        envstate, reward, game_status = qmaze.act(action)\n",
    "        if game_status == 'win':\n",
    "            return True\n",
    "        elif game_status == 'lose':\n",
    "            return False"
   ]
  },
  {
   "cell_type": "markdown",
   "metadata": {},
   "source": [
    "This function helps you to determine whether the pirate can win any game at all. If your maze is not well designed, the pirate may not win any game at all. In this case, your training would not yield any result. The provided maze in this notebook ensures that there is a path to win and you can run this method to check."
   ]
  },
  {
   "cell_type": "code",
   "execution_count": 7,
   "metadata": {},
   "outputs": [],
   "source": [
    "def completion_check(model, qmaze):\n",
    "    for cell in qmaze.free_cells:\n",
    "        if not qmaze.valid_actions(cell):\n",
    "            return False\n",
    "        if not play_game(model, qmaze, cell):\n",
    "            return False\n",
    "    return True"
   ]
  },
  {
   "cell_type": "markdown",
   "metadata": {},
   "source": [
    "The code you have been given in this block will build the neural network model. Review the code and note the number of layers, as well as the activation, optimizer, and loss functions that are used to train the model."
   ]
  },
  {
   "cell_type": "code",
   "execution_count": 8,
   "metadata": {},
   "outputs": [],
   "source": [
    "def build_model(maze):\n",
    "    model = Sequential()\n",
    "    model.add(Dense(maze.size, input_shape=(maze.size,)))\n",
    "    model.add(PReLU())\n",
    "    model.add(Dense(maze.size))\n",
    "    model.add(PReLU())\n",
    "    model.add(Dense(num_actions))\n",
    "    model.compile(optimizer='adam', loss='mse')\n",
    "    return model"
   ]
  },
  {
   "cell_type": "markdown",
   "metadata": {},
   "source": [
    "# #TODO: Complete the Q-Training Algorithm Code Block\n",
    "\n",
    "This is your deep Q-learning implementation. The goal of your deep Q-learning implementation is to find the best possible navigation sequence that results in reaching the treasure cell while maximizing the reward. In your implementation, you need to determine the optimal number of epochs to achieve a 100% win rate.\n",
    "\n",
    "You will need to complete the section starting with #pseudocode. The pseudocode has been included for you."
   ]
  },
  {
   "cell_type": "code",
   "execution_count": 9,
   "metadata": {},
   "outputs": [],
   "source": [
    "def qtrain(model, maze, **opt):\n",
    "\n",
    "    # exploration factor\n",
    "    global epsilon \n",
    "\n",
    "    # number of epochs\n",
    "    n_epoch = opt.get('n_epoch', 15000)\n",
    "\n",
    "    # maximum memory to store episodes\n",
    "    max_memory = opt.get('max_memory', 1000)\n",
    "\n",
    "    # maximum data size for training\n",
    "    data_size = opt.get('data_size', 50)\n",
    "\n",
    "    # start time\n",
    "    start_time = datetime.datetime.now()\n",
    "\n",
    "    # Construct environment/game from numpy array: maze (see above)\n",
    "    qmaze = TreasureMaze(maze)\n",
    "\n",
    "    # Initialize experience replay object\n",
    "    experience = GameExperience(model, max_memory=max_memory)\n",
    "    \n",
    "    win_history = []   # history of win/lose game\n",
    "    hsize = qmaze.maze.size//2   # history window size\n",
    "    win_rate = 0.0\n",
    "    \n",
    "    # For each epoch:\n",
    "    for epoch in range(n_epoch):\n",
    "        # Randomly select a free cell for the agent\n",
    "        agent_cell = random.choice(qmaze.free_cells)\n",
    "        # Reset the maze with agent set to the selected position\n",
    "        qmaze.reset(agent_cell)\n",
    "        # Get the current environment state\n",
    "        envstate = qmaze.observe()\n",
    "        # Initialize episode\n",
    "        n_episodes = 0\n",
    "        while True:\n",
    "            # Increment episode count\n",
    "            n_episodes += 1\n",
    "            # Get previous environment state\n",
    "            prev_envstate = envstate\n",
    "            # Explore or exploit action selection\n",
    "            if np.random.rand() < epsilon:\n",
    "                # Exploration: randomly choose action\n",
    "                action = np.random.randint(0, num_actions)\n",
    "            else:\n",
    "                # Exploitation: choose action with highest Q-value\n",
    "                q = model.predict(prev_envstate)\n",
    "                action = np.argmax(q[0])\n",
    "            # Take action, get rewards and new state\n",
    "            envstate, reward, game_status = qmaze.act(action)\n",
    "            # Create episode\n",
    "            episode = [prev_envstate, action, reward, envstate, game_status]\n",
    "            # Store episode in experience replay object\n",
    "            experience.remember(episode)\n",
    "            # Train neural network model and evaluate loss\n",
    "            inputs, targets = experience.get_data(data_size=data_size)\n",
    "            loss = model.train_on_batch(inputs, targets)\n",
    "            # If the game is over, break out of the loop\n",
    "            if game_status != 'not_over':\n",
    "                break\n",
    "        # Update win history\n",
    "        win_history.append(1 if game_status == 'win' else 0)\n",
    "        # Calculate win rate\n",
    "        win_rate = sum(win_history) / len(win_history)\n",
    "\n",
    "\n",
    "    #Print the epoch, loss, episodes, win count, and win rate for each epoch\n",
    "        dt = datetime.datetime.now() - start_time\n",
    "        t = format_time(dt.total_seconds())\n",
    "        template = \"Epoch: {:03d}/{:d} | Loss: {:.4f} | Episodes: {:d} | Win count: {:d} | Win rate: {:.3f} | time: {}\"\n",
    "        print(template.format(epoch, n_epoch-1, loss, n_episodes, sum(win_history), win_rate, t))\n",
    "        # We simply check if training has exhausted all free cells and if in all\n",
    "        # cases the agent won.\n",
    "        if win_rate > 0.9 : epsilon = 0.05\n",
    "        if sum(win_history[-hsize:]) == hsize and completion_check(model, qmaze):\n",
    "            print(\"Reached 100%% win rate at epoch: %d\" % (epoch,))\n",
    "            break\n",
    "    \n",
    "    \n",
    "    # Determine the total time for training\n",
    "    dt = datetime.datetime.now() - start_time\n",
    "    seconds = dt.total_seconds()\n",
    "    t = format_time(seconds)\n",
    "\n",
    "    print(\"n_epoch: %d, max_mem: %d, data: %d, time: %s\" % (epoch, max_memory, data_size, t))\n",
    "    return seconds\n",
    "\n",
    "# This is a small utility for printing readable time strings:\n",
    "def format_time(seconds):\n",
    "    if seconds < 400:\n",
    "        s = float(seconds)\n",
    "        return \"%.1f seconds\" % (s,)\n",
    "    elif seconds < 4000:\n",
    "        m = seconds / 60.0\n",
    "        return \"%.2f minutes\" % (m,)\n",
    "    else:\n",
    "        h = seconds / 3600.0\n",
    "        return \"%.2f hours\" % (h,)"
   ]
  },
  {
   "cell_type": "markdown",
   "metadata": {},
   "source": [
    "## Test Your Model\n",
    "\n",
    "Now we will start testing the deep Q-learning implementation. To begin, select **Cell**, then **Run All** from the menu bar. This will run your notebook. As it runs, you should see output begin to appear beneath the next few cells. The code below creates an instance of TreasureMaze."
   ]
  },
  {
   "cell_type": "code",
   "execution_count": 10,
   "metadata": {},
   "outputs": [
    {
     "data": {
      "text/plain": [
       "<matplotlib.image.AxesImage at 0x2517ebd3948>"
      ]
     },
     "execution_count": 10,
     "metadata": {},
     "output_type": "execute_result"
    },
    {
     "data": {
      "image/png": "[encoded data removed]",
      "text/plain": [
       "<Figure size 432x288 with 1 Axes>"
      ]
     },
     "metadata": {
      "needs_background": "light"
     },
     "output_type": "display_data"
    }
   ],
   "source": [
    "qmaze = TreasureMaze(maze)\n",
    "show(qmaze)"
   ]
  },
  {
   "cell_type": "markdown",
   "metadata": {},
   "source": [
    "In the next code block, you will build your model and train it using deep Q-learning. Note: This step takes several minutes to fully run."
   ]
  },
  {
   "cell_type": "code",
   "execution_count": 11,
   "metadata": {},
   "outputs": [
    {
     "name": "stdout",
     "output_type": "stream",
     "text": [
      "Epoch: 000/14999 | Loss: 0.0003 | Episodes: 134 | Win count: 0 | Win rate: 0.000 | time: 14.5 seconds\n",
      "Epoch: 001/14999 | Loss: 0.0002 | Episodes: 133 | Win count: 0 | Win rate: 0.000 | time: 28.5 seconds\n",
      "Epoch: 002/14999 | Loss: 0.0004 | Episodes: 132 | Win count: 0 | Win rate: 0.000 | time: 41.6 seconds\n",
      "Epoch: 003/14999 | Loss: 0.0000 | Episodes: 129 | Win count: 0 | Win rate: 0.000 | time: 54.0 seconds\n",
      "Epoch: 004/14999 | Loss: 0.0003 | Episodes: 134 | Win count: 0 | Win rate: 0.000 | time: 65.2 seconds\n",
      "Epoch: 005/14999 | Loss: 0.0002 | Episodes: 131 | Win count: 0 | Win rate: 0.000 | time: 77.8 seconds\n",
      "Epoch: 006/14999 | Loss: 0.0009 | Episodes: 134 | Win count: 0 | Win rate: 0.000 | time: 91.1 seconds\n",
      "Epoch: 007/14999 | Loss: 0.0008 | Episodes: 142 | Win count: 0 | Win rate: 0.000 | time: 105.7 seconds\n",
      "Epoch: 008/14999 | Loss: 0.0002 | Episodes: 15 | Win count: 1 | Win rate: 0.111 | time: 107.4 seconds\n",
      "Epoch: 009/14999 | Loss: 0.0010 | Episodes: 144 | Win count: 1 | Win rate: 0.100 | time: 121.8 seconds\n",
      "Epoch: 010/14999 | Loss: 0.0009 | Episodes: 132 | Win count: 1 | Win rate: 0.091 | time: 135.2 seconds\n",
      "Epoch: 011/14999 | Loss: 0.0023 | Episodes: 138 | Win count: 1 | Win rate: 0.083 | time: 149.7 seconds\n",
      "Epoch: 012/14999 | Loss: 0.0016 | Episodes: 143 | Win count: 1 | Win rate: 0.077 | time: 164.2 seconds\n",
      "Epoch: 013/14999 | Loss: 0.0004 | Episodes: 134 | Win count: 1 | Win rate: 0.071 | time: 177.1 seconds\n",
      "Epoch: 014/14999 | Loss: 0.0011 | Episodes: 140 | Win count: 1 | Win rate: 0.067 | time: 191.4 seconds\n",
      "Epoch: 015/14999 | Loss: 0.0009 | Episodes: 154 | Win count: 1 | Win rate: 0.062 | time: 208.4 seconds\n",
      "Epoch: 016/14999 | Loss: 0.0017 | Episodes: 139 | Win count: 1 | Win rate: 0.059 | time: 224.8 seconds\n",
      "Epoch: 017/14999 | Loss: 0.0005 | Episodes: 138 | Win count: 1 | Win rate: 0.056 | time: 238.3 seconds\n",
      "Epoch: 018/14999 | Loss: 0.0009 | Episodes: 135 | Win count: 1 | Win rate: 0.053 | time: 250.2 seconds\n",
      "Epoch: 019/14999 | Loss: 0.0005 | Episodes: 141 | Win count: 1 | Win rate: 0.050 | time: 267.3 seconds\n",
      "Epoch: 020/14999 | Loss: 0.0003 | Episodes: 102 | Win count: 2 | Win rate: 0.095 | time: 277.6 seconds\n",
      "Epoch: 021/14999 | Loss: 0.0005 | Episodes: 36 | Win count: 3 | Win rate: 0.136 | time: 280.8 seconds\n",
      "Epoch: 022/14999 | Loss: 0.0005 | Episodes: 135 | Win count: 3 | Win rate: 0.130 | time: 295.3 seconds\n",
      "Epoch: 023/14999 | Loss: 0.0013 | Episodes: 134 | Win count: 3 | Win rate: 0.125 | time: 307.2 seconds\n",
      "Epoch: 024/14999 | Loss: 0.0012 | Episodes: 8 | Win count: 4 | Win rate: 0.160 | time: 307.8 seconds\n",
      "Epoch: 025/14999 | Loss: 0.0006 | Episodes: 2 | Win count: 5 | Win rate: 0.192 | time: 307.9 seconds\n",
      "Epoch: 026/14999 | Loss: 0.0009 | Episodes: 13 | Win count: 6 | Win rate: 0.222 | time: 309.0 seconds\n",
      "Epoch: 027/14999 | Loss: 0.0032 | Episodes: 133 | Win count: 6 | Win rate: 0.214 | time: 322.9 seconds\n",
      "Epoch: 028/14999 | Loss: 0.0005 | Episodes: 89 | Win count: 7 | Win rate: 0.241 | time: 331.5 seconds\n",
      "Epoch: 029/14999 | Loss: 0.0013 | Episodes: 135 | Win count: 7 | Win rate: 0.233 | time: 345.2 seconds\n",
      "Epoch: 030/14999 | Loss: 0.0082 | Episodes: 132 | Win count: 7 | Win rate: 0.226 | time: 357.8 seconds\n",
      "Epoch: 031/14999 | Loss: 0.0004 | Episodes: 131 | Win count: 7 | Win rate: 0.219 | time: 370.9 seconds\n",
      "Epoch: 032/14999 | Loss: 0.0003 | Episodes: 139 | Win count: 7 | Win rate: 0.212 | time: 385.0 seconds\n",
      "Epoch: 033/14999 | Loss: 0.0003 | Episodes: 130 | Win count: 7 | Win rate: 0.206 | time: 397.4 seconds\n",
      "Epoch: 034/14999 | Loss: 0.0001 | Episodes: 139 | Win count: 7 | Win rate: 0.200 | time: 6.84 minutes\n",
      "Epoch: 035/14999 | Loss: 0.0012 | Episodes: 139 | Win count: 7 | Win rate: 0.194 | time: 7.05 minutes\n",
      "Epoch: 036/14999 | Loss: 0.0013 | Episodes: 138 | Win count: 7 | Win rate: 0.189 | time: 7.25 minutes\n",
      "Epoch: 037/14999 | Loss: 0.0009 | Episodes: 140 | Win count: 7 | Win rate: 0.184 | time: 7.47 minutes\n",
      "Epoch: 038/14999 | Loss: 0.0070 | Episodes: 150 | Win count: 8 | Win rate: 0.205 | time: 7.69 minutes\n",
      "Epoch: 039/14999 | Loss: 0.0013 | Episodes: 24 | Win count: 9 | Win rate: 0.225 | time: 7.73 minutes\n",
      "Epoch: 040/14999 | Loss: 0.0017 | Episodes: 130 | Win count: 10 | Win rate: 0.244 | time: 7.94 minutes\n",
      "Epoch: 041/14999 | Loss: 0.0099 | Episodes: 138 | Win count: 10 | Win rate: 0.238 | time: 8.18 minutes\n",
      "Epoch: 042/14999 | Loss: 0.0101 | Episodes: 139 | Win count: 10 | Win rate: 0.233 | time: 8.47 minutes\n",
      "Epoch: 043/14999 | Loss: 0.0012 | Episodes: 75 | Win count: 11 | Win rate: 0.250 | time: 8.61 minutes\n",
      "Epoch: 044/14999 | Loss: 0.0010 | Episodes: 136 | Win count: 12 | Win rate: 0.267 | time: 8.85 minutes\n",
      "Epoch: 045/14999 | Loss: 0.0017 | Episodes: 158 | Win count: 12 | Win rate: 0.261 | time: 9.15 minutes\n",
      "Epoch: 046/14999 | Loss: 0.0020 | Episodes: 136 | Win count: 13 | Win rate: 0.277 | time: 9.43 minutes\n",
      "Epoch: 047/14999 | Loss: 0.0019 | Episodes: 115 | Win count: 14 | Win rate: 0.292 | time: 9.61 minutes\n",
      "Epoch: 048/14999 | Loss: 0.0019 | Episodes: 19 | Win count: 15 | Win rate: 0.306 | time: 9.65 minutes\n",
      "Epoch: 049/14999 | Loss: 0.0009 | Episodes: 7 | Win count: 16 | Win rate: 0.320 | time: 9.66 minutes\n",
      "Epoch: 050/14999 | Loss: 0.0018 | Episodes: 30 | Win count: 17 | Win rate: 0.333 | time: 9.71 minutes\n",
      "Epoch: 051/14999 | Loss: 0.0018 | Episodes: 136 | Win count: 17 | Win rate: 0.327 | time: 9.96 minutes\n",
      "Epoch: 052/14999 | Loss: 0.0014 | Episodes: 81 | Win count: 18 | Win rate: 0.340 | time: 10.12 minutes\n",
      "Epoch: 053/14999 | Loss: 0.0013 | Episodes: 8 | Win count: 19 | Win rate: 0.352 | time: 10.14 minutes\n",
      "Epoch: 054/14999 | Loss: 0.0019 | Episodes: 80 | Win count: 20 | Win rate: 0.364 | time: 10.27 minutes\n",
      "Epoch: 055/14999 | Loss: 0.0016 | Episodes: 32 | Win count: 21 | Win rate: 0.375 | time: 10.33 minutes\n",
      "Epoch: 056/14999 | Loss: 0.0011 | Episodes: 19 | Win count: 22 | Win rate: 0.386 | time: 10.38 minutes\n",
      "Epoch: 057/14999 | Loss: 0.0019 | Episodes: 45 | Win count: 23 | Win rate: 0.397 | time: 10.47 minutes\n",
      "Epoch: 058/14999 | Loss: 0.0015 | Episodes: 71 | Win count: 24 | Win rate: 0.407 | time: 10.61 minutes\n",
      "Epoch: 059/14999 | Loss: 0.0013 | Episodes: 5 | Win count: 25 | Win rate: 0.417 | time: 10.62 minutes\n",
      "Epoch: 060/14999 | Loss: 0.0021 | Episodes: 104 | Win count: 26 | Win rate: 0.426 | time: 10.79 minutes\n",
      "Epoch: 061/14999 | Loss: 0.0012 | Episodes: 135 | Win count: 26 | Win rate: 0.419 | time: 11.02 minutes\n",
      "Epoch: 062/14999 | Loss: 0.0014 | Episodes: 4 | Win count: 27 | Win rate: 0.429 | time: 11.03 minutes\n",
      "Epoch: 063/14999 | Loss: 0.0015 | Episodes: 21 | Win count: 28 | Win rate: 0.438 | time: 11.06 minutes\n",
      "Epoch: 064/14999 | Loss: 0.0008 | Episodes: 40 | Win count: 29 | Win rate: 0.446 | time: 11.13 minutes\n",
      "Epoch: 065/14999 | Loss: 0.0018 | Episodes: 42 | Win count: 30 | Win rate: 0.455 | time: 11.19 minutes\n",
      "Epoch: 066/14999 | Loss: 0.0012 | Episodes: 135 | Win count: 31 | Win rate: 0.463 | time: 11.45 minutes\n",
      "Epoch: 067/14999 | Loss: 0.0024 | Episodes: 28 | Win count: 32 | Win rate: 0.471 | time: 11.50 minutes\n",
      "Epoch: 068/14999 | Loss: 0.0011 | Episodes: 11 | Win count: 33 | Win rate: 0.478 | time: 11.52 minutes\n",
      "Epoch: 069/14999 | Loss: 0.0007 | Episodes: 1 | Win count: 34 | Win rate: 0.486 | time: 11.53 minutes\n",
      "Epoch: 070/14999 | Loss: 0.0009 | Episodes: 35 | Win count: 35 | Win rate: 0.493 | time: 11.59 minutes\n",
      "Epoch: 071/14999 | Loss: 0.0009 | Episodes: 20 | Win count: 36 | Win rate: 0.500 | time: 11.62 minutes\n",
      "Epoch: 072/14999 | Loss: 0.0014 | Episodes: 6 | Win count: 37 | Win rate: 0.507 | time: 11.64 minutes\n",
      "Epoch: 073/14999 | Loss: 0.0010 | Episodes: 21 | Win count: 38 | Win rate: 0.514 | time: 11.67 minutes\n",
      "Epoch: 074/14999 | Loss: 0.0015 | Episodes: 4 | Win count: 39 | Win rate: 0.520 | time: 11.68 minutes\n",
      "Epoch: 075/14999 | Loss: 0.0011 | Episodes: 7 | Win count: 40 | Win rate: 0.526 | time: 11.69 minutes\n",
      "Epoch: 076/14999 | Loss: 0.0012 | Episodes: 2 | Win count: 41 | Win rate: 0.532 | time: 11.70 minutes\n",
      "Epoch: 077/14999 | Loss: 0.0010 | Episodes: 18 | Win count: 42 | Win rate: 0.538 | time: 11.74 minutes\n",
      "Epoch: 078/14999 | Loss: 0.0013 | Episodes: 63 | Win count: 43 | Win rate: 0.544 | time: 11.84 minutes\n",
      "Epoch: 079/14999 | Loss: 0.0015 | Episodes: 33 | Win count: 44 | Win rate: 0.550 | time: 11.90 minutes\n"
     ]
    },
    {
     "name": "stdout",
     "output_type": "stream",
     "text": [
      "Epoch: 080/14999 | Loss: 0.0022 | Episodes: 22 | Win count: 45 | Win rate: 0.556 | time: 11.94 minutes\n",
      "Epoch: 081/14999 | Loss: 0.0012 | Episodes: 57 | Win count: 46 | Win rate: 0.561 | time: 12.04 minutes\n",
      "Epoch: 082/14999 | Loss: 0.0008 | Episodes: 32 | Win count: 47 | Win rate: 0.566 | time: 12.10 minutes\n",
      "Epoch: 083/14999 | Loss: 0.0009 | Episodes: 20 | Win count: 48 | Win rate: 0.571 | time: 12.13 minutes\n",
      "Epoch: 084/14999 | Loss: 0.0010 | Episodes: 4 | Win count: 49 | Win rate: 0.576 | time: 12.14 minutes\n",
      "Epoch: 085/14999 | Loss: 0.0010 | Episodes: 27 | Win count: 50 | Win rate: 0.581 | time: 12.18 minutes\n",
      "Epoch: 086/14999 | Loss: 0.0012 | Episodes: 33 | Win count: 51 | Win rate: 0.586 | time: 12.24 minutes\n",
      "Epoch: 087/14999 | Loss: 0.0012 | Episodes: 4 | Win count: 52 | Win rate: 0.591 | time: 12.25 minutes\n",
      "Epoch: 088/14999 | Loss: 0.0008 | Episodes: 13 | Win count: 53 | Win rate: 0.596 | time: 12.27 minutes\n",
      "Epoch: 089/14999 | Loss: 0.0016 | Episodes: 15 | Win count: 54 | Win rate: 0.600 | time: 12.30 minutes\n",
      "Epoch: 090/14999 | Loss: 0.0009 | Episodes: 25 | Win count: 55 | Win rate: 0.604 | time: 12.35 minutes\n",
      "Epoch: 091/14999 | Loss: 0.0012 | Episodes: 15 | Win count: 56 | Win rate: 0.609 | time: 12.38 minutes\n",
      "Epoch: 092/14999 | Loss: 0.0018 | Episodes: 28 | Win count: 57 | Win rate: 0.613 | time: 12.44 minutes\n",
      "Epoch: 093/14999 | Loss: 0.0012 | Episodes: 2 | Win count: 58 | Win rate: 0.617 | time: 12.44 minutes\n",
      "Epoch: 094/14999 | Loss: 0.0017 | Episodes: 55 | Win count: 59 | Win rate: 0.621 | time: 12.53 minutes\n",
      "Epoch: 095/14999 | Loss: 0.0012 | Episodes: 8 | Win count: 60 | Win rate: 0.625 | time: 12.56 minutes\n",
      "Epoch: 096/14999 | Loss: 0.0013 | Episodes: 136 | Win count: 60 | Win rate: 0.619 | time: 12.81 minutes\n",
      "Epoch: 097/14999 | Loss: 0.0006 | Episodes: 17 | Win count: 61 | Win rate: 0.622 | time: 12.85 minutes\n",
      "Epoch: 098/14999 | Loss: 0.0012 | Episodes: 136 | Win count: 61 | Win rate: 0.616 | time: 13.08 minutes\n",
      "Epoch: 099/14999 | Loss: 0.0010 | Episodes: 7 | Win count: 62 | Win rate: 0.620 | time: 13.10 minutes\n",
      "Epoch: 100/14999 | Loss: 0.0014 | Episodes: 43 | Win count: 63 | Win rate: 0.624 | time: 13.18 minutes\n",
      "Epoch: 101/14999 | Loss: 0.0009 | Episodes: 13 | Win count: 64 | Win rate: 0.627 | time: 13.21 minutes\n",
      "Epoch: 102/14999 | Loss: 0.0013 | Episodes: 27 | Win count: 65 | Win rate: 0.631 | time: 13.26 minutes\n",
      "Epoch: 103/14999 | Loss: 0.0009 | Episodes: 2 | Win count: 66 | Win rate: 0.635 | time: 13.26 minutes\n",
      "Epoch: 104/14999 | Loss: 0.0007 | Episodes: 3 | Win count: 67 | Win rate: 0.638 | time: 13.26 minutes\n",
      "Epoch: 105/14999 | Loss: 0.0008 | Episodes: 6 | Win count: 68 | Win rate: 0.642 | time: 13.28 minutes\n",
      "Epoch: 106/14999 | Loss: 0.0008 | Episodes: 18 | Win count: 69 | Win rate: 0.645 | time: 13.31 minutes\n",
      "Epoch: 107/14999 | Loss: 0.0006 | Episodes: 25 | Win count: 70 | Win rate: 0.648 | time: 13.37 minutes\n",
      "Epoch: 108/14999 | Loss: 0.0009 | Episodes: 16 | Win count: 71 | Win rate: 0.651 | time: 13.40 minutes\n",
      "Epoch: 109/14999 | Loss: 0.0009 | Episodes: 37 | Win count: 72 | Win rate: 0.655 | time: 13.48 minutes\n",
      "Epoch: 110/14999 | Loss: 0.0012 | Episodes: 140 | Win count: 73 | Win rate: 0.658 | time: 13.73 minutes\n",
      "Epoch: 111/14999 | Loss: 0.0007 | Episodes: 24 | Win count: 74 | Win rate: 0.661 | time: 13.77 minutes\n",
      "Epoch: 112/14999 | Loss: 0.0016 | Episodes: 25 | Win count: 75 | Win rate: 0.664 | time: 13.80 minutes\n",
      "Epoch: 113/14999 | Loss: 0.0017 | Episodes: 9 | Win count: 76 | Win rate: 0.667 | time: 13.82 minutes\n",
      "Epoch: 114/14999 | Loss: 0.0017 | Episodes: 13 | Win count: 77 | Win rate: 0.670 | time: 13.84 minutes\n",
      "Epoch: 115/14999 | Loss: 0.0011 | Episodes: 81 | Win count: 78 | Win rate: 0.672 | time: 13.97 minutes\n",
      "Epoch: 116/14999 | Loss: 0.0009 | Episodes: 32 | Win count: 79 | Win rate: 0.675 | time: 14.02 minutes\n",
      "Epoch: 117/14999 | Loss: 0.0005 | Episodes: 17 | Win count: 80 | Win rate: 0.678 | time: 14.06 minutes\n",
      "Epoch: 118/14999 | Loss: 0.0008 | Episodes: 33 | Win count: 81 | Win rate: 0.681 | time: 14.11 minutes\n",
      "Epoch: 119/14999 | Loss: 0.0005 | Episodes: 24 | Win count: 82 | Win rate: 0.683 | time: 14.15 minutes\n",
      "Epoch: 120/14999 | Loss: 0.0012 | Episodes: 31 | Win count: 83 | Win rate: 0.686 | time: 14.21 minutes\n",
      "Epoch: 121/14999 | Loss: 0.0003 | Episodes: 37 | Win count: 84 | Win rate: 0.689 | time: 14.28 minutes\n",
      "Epoch: 122/14999 | Loss: 0.0013 | Episodes: 14 | Win count: 85 | Win rate: 0.691 | time: 14.31 minutes\n",
      "Epoch: 123/14999 | Loss: 0.0005 | Episodes: 28 | Win count: 86 | Win rate: 0.694 | time: 14.37 minutes\n",
      "Epoch: 124/14999 | Loss: 0.0006 | Episodes: 30 | Win count: 87 | Win rate: 0.696 | time: 14.42 minutes\n",
      "Epoch: 125/14999 | Loss: 0.0006 | Episodes: 13 | Win count: 88 | Win rate: 0.698 | time: 14.44 minutes\n",
      "Epoch: 126/14999 | Loss: 0.0001 | Episodes: 10 | Win count: 89 | Win rate: 0.701 | time: 14.46 minutes\n",
      "Epoch: 127/14999 | Loss: 0.0008 | Episodes: 24 | Win count: 90 | Win rate: 0.703 | time: 14.51 minutes\n",
      "Epoch: 128/14999 | Loss: 0.0005 | Episodes: 34 | Win count: 91 | Win rate: 0.705 | time: 14.55 minutes\n",
      "Epoch: 129/14999 | Loss: 0.0004 | Episodes: 16 | Win count: 92 | Win rate: 0.708 | time: 14.58 minutes\n",
      "Epoch: 130/14999 | Loss: 0.0004 | Episodes: 10 | Win count: 93 | Win rate: 0.710 | time: 14.60 minutes\n",
      "Epoch: 131/14999 | Loss: 0.0008 | Episodes: 20 | Win count: 94 | Win rate: 0.712 | time: 14.65 minutes\n",
      "Epoch: 132/14999 | Loss: 0.0009 | Episodes: 25 | Win count: 95 | Win rate: 0.714 | time: 14.70 minutes\n",
      "Epoch: 133/14999 | Loss: 0.0006 | Episodes: 44 | Win count: 96 | Win rate: 0.716 | time: 14.78 minutes\n",
      "Epoch: 134/14999 | Loss: 0.0005 | Episodes: 9 | Win count: 97 | Win rate: 0.719 | time: 14.79 minutes\n",
      "Epoch: 135/14999 | Loss: 0.0008 | Episodes: 12 | Win count: 98 | Win rate: 0.721 | time: 14.82 minutes\n",
      "Epoch: 136/14999 | Loss: 0.0009 | Episodes: 27 | Win count: 99 | Win rate: 0.723 | time: 14.87 minutes\n",
      "Epoch: 137/14999 | Loss: 0.0007 | Episodes: 20 | Win count: 100 | Win rate: 0.725 | time: 14.91 minutes\n",
      "Epoch: 138/14999 | Loss: 0.0004 | Episodes: 22 | Win count: 101 | Win rate: 0.727 | time: 14.96 minutes\n",
      "Epoch: 139/14999 | Loss: 0.0008 | Episodes: 9 | Win count: 102 | Win rate: 0.729 | time: 14.98 minutes\n",
      "Epoch: 140/14999 | Loss: 0.0003 | Episodes: 17 | Win count: 103 | Win rate: 0.730 | time: 15.02 minutes\n",
      "Epoch: 141/14999 | Loss: 0.0008 | Episodes: 35 | Win count: 104 | Win rate: 0.732 | time: 15.11 minutes\n",
      "Epoch: 142/14999 | Loss: 0.0006 | Episodes: 10 | Win count: 105 | Win rate: 0.734 | time: 15.14 minutes\n",
      "Epoch: 143/14999 | Loss: 0.0001 | Episodes: 16 | Win count: 106 | Win rate: 0.736 | time: 15.18 minutes\n",
      "Epoch: 144/14999 | Loss: 0.0009 | Episodes: 17 | Win count: 107 | Win rate: 0.738 | time: 15.22 minutes\n",
      "Epoch: 145/14999 | Loss: 0.0006 | Episodes: 5 | Win count: 108 | Win rate: 0.740 | time: 15.24 minutes\n",
      "Epoch: 146/14999 | Loss: 0.0003 | Episodes: 21 | Win count: 109 | Win rate: 0.741 | time: 15.28 minutes\n",
      "Epoch: 147/14999 | Loss: 0.0004 | Episodes: 4 | Win count: 110 | Win rate: 0.743 | time: 15.31 minutes\n",
      "Epoch: 148/14999 | Loss: 0.0003 | Episodes: 45 | Win count: 111 | Win rate: 0.745 | time: 15.44 minutes\n",
      "Epoch: 149/14999 | Loss: 0.0002 | Episodes: 33 | Win count: 112 | Win rate: 0.747 | time: 15.50 minutes\n",
      "Epoch: 150/14999 | Loss: 0.0009 | Episodes: 12 | Win count: 113 | Win rate: 0.748 | time: 15.53 minutes\n",
      "Epoch: 151/14999 | Loss: 0.0008 | Episodes: 4 | Win count: 114 | Win rate: 0.750 | time: 15.54 minutes\n",
      "Epoch: 152/14999 | Loss: 0.0013 | Episodes: 27 | Win count: 115 | Win rate: 0.752 | time: 15.59 minutes\n",
      "Epoch: 153/14999 | Loss: 0.0007 | Episodes: 41 | Win count: 116 | Win rate: 0.753 | time: 15.68 minutes\n",
      "Epoch: 154/14999 | Loss: 0.0010 | Episodes: 31 | Win count: 117 | Win rate: 0.755 | time: 15.75 minutes\n",
      "Epoch: 155/14999 | Loss: 0.0006 | Episodes: 29 | Win count: 118 | Win rate: 0.756 | time: 15.80 minutes\n",
      "Epoch: 156/14999 | Loss: 0.0008 | Episodes: 63 | Win count: 119 | Win rate: 0.758 | time: 15.93 minutes\n",
      "Epoch: 157/14999 | Loss: 0.0008 | Episodes: 14 | Win count: 120 | Win rate: 0.759 | time: 15.96 minutes\n",
      "Epoch: 158/14999 | Loss: 0.0004 | Episodes: 43 | Win count: 121 | Win rate: 0.761 | time: 16.04 minutes\n",
      "Epoch: 159/14999 | Loss: 0.0012 | Episodes: 24 | Win count: 122 | Win rate: 0.762 | time: 16.07 minutes\n"
     ]
    },
    {
     "name": "stdout",
     "output_type": "stream",
     "text": [
      "Epoch: 160/14999 | Loss: 0.0007 | Episodes: 2 | Win count: 123 | Win rate: 0.764 | time: 16.08 minutes\n",
      "Epoch: 161/14999 | Loss: 0.0004 | Episodes: 4 | Win count: 124 | Win rate: 0.765 | time: 16.09 minutes\n",
      "Epoch: 162/14999 | Loss: 0.0002 | Episodes: 32 | Win count: 125 | Win rate: 0.767 | time: 16.15 minutes\n",
      "Epoch: 163/14999 | Loss: 0.0008 | Episodes: 7 | Win count: 126 | Win rate: 0.768 | time: 16.17 minutes\n",
      "Epoch: 164/14999 | Loss: 0.0005 | Episodes: 19 | Win count: 127 | Win rate: 0.770 | time: 16.20 minutes\n",
      "Epoch: 165/14999 | Loss: 0.0009 | Episodes: 32 | Win count: 128 | Win rate: 0.771 | time: 16.27 minutes\n",
      "Epoch: 166/14999 | Loss: 0.0003 | Episodes: 29 | Win count: 129 | Win rate: 0.772 | time: 16.34 minutes\n",
      "Epoch: 167/14999 | Loss: 0.0005 | Episodes: 31 | Win count: 130 | Win rate: 0.774 | time: 16.40 minutes\n",
      "Epoch: 168/14999 | Loss: 0.0002 | Episodes: 22 | Win count: 131 | Win rate: 0.775 | time: 16.45 minutes\n",
      "Epoch: 169/14999 | Loss: 0.0008 | Episodes: 8 | Win count: 132 | Win rate: 0.776 | time: 16.47 minutes\n",
      "Epoch: 170/14999 | Loss: 0.0016 | Episodes: 16 | Win count: 133 | Win rate: 0.778 | time: 16.50 minutes\n",
      "Epoch: 171/14999 | Loss: 0.0010 | Episodes: 24 | Win count: 134 | Win rate: 0.779 | time: 16.54 minutes\n",
      "Epoch: 172/14999 | Loss: 0.0007 | Episodes: 31 | Win count: 135 | Win rate: 0.780 | time: 16.59 minutes\n",
      "Epoch: 173/14999 | Loss: 0.0011 | Episodes: 16 | Win count: 136 | Win rate: 0.782 | time: 16.62 minutes\n",
      "Epoch: 174/14999 | Loss: 0.0009 | Episodes: 10 | Win count: 137 | Win rate: 0.783 | time: 16.64 minutes\n",
      "Epoch: 175/14999 | Loss: 0.0005 | Episodes: 20 | Win count: 138 | Win rate: 0.784 | time: 16.69 minutes\n",
      "Epoch: 176/14999 | Loss: 0.0009 | Episodes: 39 | Win count: 139 | Win rate: 0.785 | time: 16.76 minutes\n",
      "Epoch: 177/14999 | Loss: 0.0005 | Episodes: 26 | Win count: 140 | Win rate: 0.787 | time: 16.80 minutes\n",
      "Epoch: 178/14999 | Loss: 0.0009 | Episodes: 17 | Win count: 141 | Win rate: 0.788 | time: 16.84 minutes\n",
      "Epoch: 179/14999 | Loss: 0.0008 | Episodes: 32 | Win count: 142 | Win rate: 0.789 | time: 16.90 minutes\n",
      "Epoch: 180/14999 | Loss: 0.0004 | Episodes: 17 | Win count: 143 | Win rate: 0.790 | time: 16.94 minutes\n",
      "Epoch: 181/14999 | Loss: 0.0005 | Episodes: 22 | Win count: 144 | Win rate: 0.791 | time: 16.99 minutes\n",
      "Epoch: 182/14999 | Loss: 0.0012 | Episodes: 8 | Win count: 145 | Win rate: 0.792 | time: 17.01 minutes\n",
      "Epoch: 183/14999 | Loss: 0.0010 | Episodes: 41 | Win count: 146 | Win rate: 0.793 | time: 17.08 minutes\n",
      "Epoch: 184/14999 | Loss: 0.0001 | Episodes: 31 | Win count: 147 | Win rate: 0.795 | time: 17.15 minutes\n",
      "Epoch: 185/14999 | Loss: 0.0002 | Episodes: 45 | Win count: 148 | Win rate: 0.796 | time: 17.24 minutes\n",
      "Epoch: 186/14999 | Loss: 0.0007 | Episodes: 75 | Win count: 149 | Win rate: 0.797 | time: 17.38 minutes\n",
      "Epoch: 187/14999 | Loss: 0.0002 | Episodes: 32 | Win count: 150 | Win rate: 0.798 | time: 17.44 minutes\n",
      "Epoch: 188/14999 | Loss: 0.0003 | Episodes: 4 | Win count: 151 | Win rate: 0.799 | time: 17.44 minutes\n",
      "Epoch: 189/14999 | Loss: 0.0010 | Episodes: 29 | Win count: 152 | Win rate: 0.800 | time: 17.49 minutes\n",
      "Epoch: 190/14999 | Loss: 0.0007 | Episodes: 23 | Win count: 153 | Win rate: 0.801 | time: 17.54 minutes\n",
      "Epoch: 191/14999 | Loss: 0.0011 | Episodes: 21 | Win count: 154 | Win rate: 0.802 | time: 17.58 minutes\n",
      "Epoch: 192/14999 | Loss: 0.0003 | Episodes: 23 | Win count: 155 | Win rate: 0.803 | time: 17.63 minutes\n",
      "Epoch: 193/14999 | Loss: 0.0007 | Episodes: 27 | Win count: 156 | Win rate: 0.804 | time: 17.70 minutes\n",
      "Epoch: 194/14999 | Loss: 0.0010 | Episodes: 28 | Win count: 157 | Win rate: 0.805 | time: 17.76 minutes\n",
      "Epoch: 195/14999 | Loss: 0.0004 | Episodes: 19 | Win count: 158 | Win rate: 0.806 | time: 17.81 minutes\n",
      "Epoch: 196/14999 | Loss: 0.0013 | Episodes: 17 | Win count: 159 | Win rate: 0.807 | time: 17.85 minutes\n",
      "Epoch: 197/14999 | Loss: 0.0006 | Episodes: 24 | Win count: 160 | Win rate: 0.808 | time: 17.89 minutes\n",
      "Epoch: 198/14999 | Loss: 0.0005 | Episodes: 11 | Win count: 161 | Win rate: 0.809 | time: 17.92 minutes\n",
      "Epoch: 199/14999 | Loss: 0.0008 | Episodes: 3 | Win count: 162 | Win rate: 0.810 | time: 17.93 minutes\n",
      "Epoch: 200/14999 | Loss: 0.0006 | Episodes: 30 | Win count: 163 | Win rate: 0.811 | time: 17.98 minutes\n",
      "Reached 100% win rate at epoch: 200\n",
      "n_epoch: 200, max_mem: 512, data: 32, time: 18.00 minutes\n"
     ]
    },
    {
     "data": {
      "text/plain": [
       "1080.138695"
      ]
     },
     "execution_count": 11,
     "metadata": {},
     "output_type": "execute_result"
    }
   ],
   "source": [
    "model = build_model(maze)\n",
    "qtrain(model, maze, epochs=1000, max_memory=8*maze.size, data_size=32)"
   ]
  },
  {
   "cell_type": "markdown",
   "metadata": {},
   "source": [
    "This cell will check to see if the model passes the completion check. Note: This could take several minutes."
   ]
  },
  {
   "cell_type": "code",
   "execution_count": 12,
   "metadata": {},
   "outputs": [
    {
     "data": {
      "text/plain": [
       "<matplotlib.image.AxesImage at 0x2517ff9a548>"
      ]
     },
     "execution_count": 12,
     "metadata": {},
     "output_type": "execute_result"
    },
    {
     "data": {
      "image/png": "[encoded data removed]",
      "text/plain": [
       "<Figure size 432x288 with 1 Axes>"
      ]
     },
     "metadata": {
      "needs_background": "light"
     },
     "output_type": "display_data"
    }
   ],
   "source": [
    "completion_check(model, qmaze)\n",
    "show(qmaze)"
   ]
  },
  {
   "cell_type": "markdown",
   "metadata": {},
   "source": [
    "This cell will test your model for one game. It will start the pirate at the top-left corner and run play_game. The agent should find a path from the starting position to the target (treasure). The treasure is located in the bottom-right corner."
   ]
  },
  {
   "cell_type": "code",
   "execution_count": 13,
   "metadata": {
    "scrolled": true
   },
   "outputs": [
    {
     "data": {
      "text/plain": [
       "<matplotlib.image.AxesImage at 0x251063cb288>"
      ]
     },
     "execution_count": 13,
     "metadata": {},
     "output_type": "execute_result"
    },
    {
     "data": {
      "image/png": "[encoded data removed]",
      "text/plain": [
       "<Figure size 432x288 with 1 Axes>"
      ]
     },
     "metadata": {
      "needs_background": "light"
     },
     "output_type": "display_data"
    }
   ],
   "source": [
    "pirate_start = (0, 0)\n",
    "play_game(model, qmaze, pirate_start)\n",
    "show(qmaze)"
   ]
  },
  {
   "cell_type": "markdown",
   "metadata": {},
   "source": [
    "## Save and Submit Your Work\n",
    "After you have finished creating the code for your notebook, save your work. Make sure that your notebook contains your name in the filename (e.g. Doe_Jane_ProjectTwo.ipynb). This will help your instructor access and grade your work easily. Download a copy of your IPYNB file and submit it to Brightspace. Refer to the Jupyter Notebook in Apporto Tutorial if you need help with these tasks."
   ]
  }
 ],
 "metadata": {
  "kernelspec": {
   "display_name": "Python 3",
   "language": "python",
   "name": "python3"
  },
  "language_info": {
   "codemirror_mode": {
    "name": "ipython",
    "version": 3
   },
   "file_extension": ".py",
   "mimetype": "text/x-python",
   "name": "python",
   "nbconvert_exporter": "python",
   "pygments_lexer": "ipython3",
   "version": "3.7.4"
  }
 },
 "nbformat": 4,
 "nbformat_minor": 2
}
